{
 "cells": [
  {
   "cell_type": "code",
   "execution_count": 10,
   "metadata": {},
   "outputs": [],
   "source": [
    "S = 'Square'\n",
    "C = 'Circle'\n",
    "P = +1\n",
    "N = -1\n",
    "\n",
    "data = [\n",
    "    (S, N),\n",
    "    (S, N),\n",
    "    (S, P),\n",
    "    (S, N),\n",
    "    (S, P),\n",
    "    (S, P),\n",
    "    (C, N),\n",
    "    (C, N),\n",
    "    (C, P),\n",
    "    (C, N),\n",
    "    (S, P),\n",
    "    (S, P),\n",
    "    (C, N),\n",
    "    (C, N),\n",
    "    (C, N),\n",
    "    (C, P),\n",
    "    (C, P),\n",
    "    (C, P),\n",
    "    (C, P),\n",
    "    (C, N),\n",
    "    (C, P),\n",
    "    (C, P),\n",
    "    (C, P),\n",
    "    (C, P),\n",
    "]\n",
    "\n",
    "def error(data, threshold):\n",
    "    errors = 0\n",
    "    for i, (_, label) in enumerate(data):\n",
    "        if i >= threshold and label == N:\n",
    "            errors += 1 \n",
    "        elif i < threshold and label == P:\n",
    "            errors += 1\n",
    "    return errors / len(data)\n",
    "\n",
    "def fnr(data, threshold, target_shape):\n",
    "    fn = 0\n",
    "    tp = 0\n",
    "\n",
    "    for i, (shape, label) in enumerate(data):\n",
    "        if shape == target_shape and label == P:\n",
    "            if i >= threshold:\n",
    "                tp += 1\n",
    "            else:\n",
    "                fn += 1\n",
    "\n",
    "    return fn / (fn + tp)\n",
    "j"
   ]
  },
  {
   "cell_type": "code",
   "execution_count": 13,
   "metadata": {},
   "outputs": [],
   "source": [
    "errors = []\n",
    "unfarinesses = []\n",
    "for i in range(len(data) + 1):\n",
    "    error_i = error(data, i)\n",
    "    square_fnr = fnr(data, i, S)\n",
    "    circle_fnr = fnr(data, i, C)\n",
    "    unfairness_i = abs(square_fnr - circle_fnr)\n",
    "\n",
    "    errors.append(error_i)\n",
    "    unfarinesses.append(unfairness_i)"
   ]
  },
  {
   "cell_type": "code",
   "execution_count": 14,
   "metadata": {},
   "outputs": [
    {
     "data": {
      "text/plain": [
       "<matplotlib.collections.PathCollection at 0x7fc520cc09d0>"
      ]
     },
     "execution_count": 14,
     "metadata": {},
     "output_type": "execute_result"
    },
    {
     "data": {
      "image/png": "[encoded data removed]",
      "text/plain": [
       "<Figure size 432x288 with 1 Axes>"
      ]
     },
     "metadata": {
      "needs_background": "light"
     },
     "output_type": "display_data"
    }
   ],
   "source": [
    "import matplotlib.pyplot as plt\n",
    "\n",
    "plt.scatter(errors, unfarinesses)"
   ]
  },
  {
   "cell_type": "code",
   "execution_count": null,
   "metadata": {},
   "outputs": [],
   "source": []
  }
 ],
 "metadata": {
  "kernelspec": {
   "display_name": "416_book",
   "language": "python",
   "name": "python3"
  },
  "language_info": {
   "codemirror_mode": {
    "name": "ipython",
    "version": 3
   },
   "file_extension": ".py",
   "mimetype": "text/x-python",
   "name": "python",
   "nbconvert_exporter": "python",
   "pygments_lexer": "ipython3",
   "version": "3.9.12"
  },
  "orig_nbformat": 4
 },
 "nbformat": 4,
 "nbformat_minor": 2
}
