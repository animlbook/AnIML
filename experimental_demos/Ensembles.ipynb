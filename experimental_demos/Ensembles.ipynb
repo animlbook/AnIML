{
 "cells": [
  {
   "cell_type": "code",
   "execution_count": 1,
   "metadata": {},
   "outputs": [
    {
     "ename": "KeyboardInterrupt",
     "evalue": "",
     "output_type": "error",
     "traceback": [
      "\u001b[0;31m---------------------------------------------------------------------------\u001b[0m",
      "\u001b[0;31mKeyboardInterrupt\u001b[0m                         Traceback (most recent call last)",
      "\u001b[1;32m/Users/hunter/Documents/Teaching/416/416-book/experimental_demos/Ensembles.ipynb Cell 1\u001b[0m in \u001b[0;36m<cell line: 26>\u001b[0;34m()\u001b[0m\n\u001b[1;32m     <a href='vscode-notebook-cell:/Users/hunter/Documents/Teaching/416/416-book/experimental_demos/Ensembles.ipynb#W0sZmlsZQ%3D%3D?line=23'>24</a>\u001b[0m \u001b[39m# Train model\u001b[39;00m\n\u001b[1;32m     <a href='vscode-notebook-cell:/Users/hunter/Documents/Teaching/416/416-book/experimental_demos/Ensembles.ipynb#W0sZmlsZQ%3D%3D?line=24'>25</a>\u001b[0m model \u001b[39m=\u001b[39m RandomForestClassifier(n_estimators\u001b[39m=\u001b[39m\u001b[39m200\u001b[39m)\n\u001b[0;32m---> <a href='vscode-notebook-cell:/Users/hunter/Documents/Teaching/416/416-book/experimental_demos/Ensembles.ipynb#W0sZmlsZQ%3D%3D?line=25'>26</a>\u001b[0m model\u001b[39m.\u001b[39;49mfit(train_data, train_labels)\n\u001b[1;32m     <a href='vscode-notebook-cell:/Users/hunter/Documents/Teaching/416/416-book/experimental_demos/Ensembles.ipynb#W0sZmlsZQ%3D%3D?line=27'>28</a>\u001b[0m \u001b[39m# Make predictions\u001b[39;00m\n\u001b[1;32m     <a href='vscode-notebook-cell:/Users/hunter/Documents/Teaching/416/416-book/experimental_demos/Ensembles.ipynb#W0sZmlsZQ%3D%3D?line=28'>29</a>\u001b[0m train_predictions \u001b[39m=\u001b[39m model\u001b[39m.\u001b[39mpredict(train_data)\n",
      "File \u001b[0;32m/Users/Hunter/opt/anaconda3/envs/416_book/lib/python3.9/site-packages/sklearn/ensemble/_forest.py:476\u001b[0m, in \u001b[0;36mBaseForest.fit\u001b[0;34m(self, X, y, sample_weight)\u001b[0m\n\u001b[1;32m    465\u001b[0m trees \u001b[39m=\u001b[39m [\n\u001b[1;32m    466\u001b[0m     \u001b[39mself\u001b[39m\u001b[39m.\u001b[39m_make_estimator(append\u001b[39m=\u001b[39m\u001b[39mFalse\u001b[39;00m, random_state\u001b[39m=\u001b[39mrandom_state)\n\u001b[1;32m    467\u001b[0m     \u001b[39mfor\u001b[39;00m i \u001b[39min\u001b[39;00m \u001b[39mrange\u001b[39m(n_more_estimators)\n\u001b[1;32m    468\u001b[0m ]\n\u001b[1;32m    470\u001b[0m \u001b[39m# Parallel loop: we prefer the threading backend as the Cython code\u001b[39;00m\n\u001b[1;32m    471\u001b[0m \u001b[39m# for fitting the trees is internally releasing the Python GIL\u001b[39;00m\n\u001b[1;32m    472\u001b[0m \u001b[39m# making threading more efficient than multiprocessing in\u001b[39;00m\n\u001b[1;32m    473\u001b[0m \u001b[39m# that case. However, for joblib 0.12+ we respect any\u001b[39;00m\n\u001b[1;32m    474\u001b[0m \u001b[39m# parallel_backend contexts set at a higher level,\u001b[39;00m\n\u001b[1;32m    475\u001b[0m \u001b[39m# since correctness does not rely on using threads.\u001b[39;00m\n\u001b[0;32m--> 476\u001b[0m trees \u001b[39m=\u001b[39m Parallel(\n\u001b[1;32m    477\u001b[0m     n_jobs\u001b[39m=\u001b[39;49m\u001b[39mself\u001b[39;49m\u001b[39m.\u001b[39;49mn_jobs,\n\u001b[1;32m    478\u001b[0m     verbose\u001b[39m=\u001b[39;49m\u001b[39mself\u001b[39;49m\u001b[39m.\u001b[39;49mverbose,\n\u001b[1;32m    479\u001b[0m     prefer\u001b[39m=\u001b[39;49m\u001b[39m\"\u001b[39;49m\u001b[39mthreads\u001b[39;49m\u001b[39m\"\u001b[39;49m,\n\u001b[1;32m    480\u001b[0m )(\n\u001b[1;32m    481\u001b[0m     delayed(_parallel_build_trees)(\n\u001b[1;32m    482\u001b[0m         t,\n\u001b[1;32m    483\u001b[0m         \u001b[39mself\u001b[39;49m\u001b[39m.\u001b[39;49mbootstrap,\n\u001b[1;32m    484\u001b[0m         X,\n\u001b[1;32m    485\u001b[0m         y,\n\u001b[1;32m    486\u001b[0m         sample_weight,\n\u001b[1;32m    487\u001b[0m         i,\n\u001b[1;32m    488\u001b[0m         \u001b[39mlen\u001b[39;49m(trees),\n\u001b[1;32m    489\u001b[0m         verbose\u001b[39m=\u001b[39;49m\u001b[39mself\u001b[39;49m\u001b[39m.\u001b[39;49mverbose,\n\u001b[1;32m    490\u001b[0m         class_weight\u001b[39m=\u001b[39;49m\u001b[39mself\u001b[39;49m\u001b[39m.\u001b[39;49mclass_weight,\n\u001b[1;32m    491\u001b[0m         n_samples_bootstrap\u001b[39m=\u001b[39;49mn_samples_bootstrap,\n\u001b[1;32m    492\u001b[0m     )\n\u001b[1;32m    493\u001b[0m     \u001b[39mfor\u001b[39;49;00m i, t \u001b[39min\u001b[39;49;00m \u001b[39menumerate\u001b[39;49m(trees)\n\u001b[1;32m    494\u001b[0m )\n\u001b[1;32m    496\u001b[0m \u001b[39m# Collect newly grown trees\u001b[39;00m\n\u001b[1;32m    497\u001b[0m \u001b[39mself\u001b[39m\u001b[39m.\u001b[39mestimators_\u001b[39m.\u001b[39mextend(trees)\n",
      "File \u001b[0;32m/Users/Hunter/opt/anaconda3/envs/416_book/lib/python3.9/site-packages/joblib/parallel.py:1046\u001b[0m, in \u001b[0;36mParallel.__call__\u001b[0;34m(self, iterable)\u001b[0m\n\u001b[1;32m   1043\u001b[0m \u001b[39mif\u001b[39;00m \u001b[39mself\u001b[39m\u001b[39m.\u001b[39mdispatch_one_batch(iterator):\n\u001b[1;32m   1044\u001b[0m     \u001b[39mself\u001b[39m\u001b[39m.\u001b[39m_iterating \u001b[39m=\u001b[39m \u001b[39mself\u001b[39m\u001b[39m.\u001b[39m_original_iterator \u001b[39mis\u001b[39;00m \u001b[39mnot\u001b[39;00m \u001b[39mNone\u001b[39;00m\n\u001b[0;32m-> 1046\u001b[0m \u001b[39mwhile\u001b[39;00m \u001b[39mself\u001b[39;49m\u001b[39m.\u001b[39;49mdispatch_one_batch(iterator):\n\u001b[1;32m   1047\u001b[0m     \u001b[39mpass\u001b[39;00m\n\u001b[1;32m   1049\u001b[0m \u001b[39mif\u001b[39;00m pre_dispatch \u001b[39m==\u001b[39m \u001b[39m\"\u001b[39m\u001b[39mall\u001b[39m\u001b[39m\"\u001b[39m \u001b[39mor\u001b[39;00m n_jobs \u001b[39m==\u001b[39m \u001b[39m1\u001b[39m:\n\u001b[1;32m   1050\u001b[0m     \u001b[39m# The iterable was consumed all at once by the above for loop.\u001b[39;00m\n\u001b[1;32m   1051\u001b[0m     \u001b[39m# No need to wait for async callbacks to trigger to\u001b[39;00m\n\u001b[1;32m   1052\u001b[0m     \u001b[39m# consumption.\u001b[39;00m\n",
      "File \u001b[0;32m/Users/Hunter/opt/anaconda3/envs/416_book/lib/python3.9/site-packages/joblib/parallel.py:861\u001b[0m, in \u001b[0;36mParallel.dispatch_one_batch\u001b[0;34m(self, iterator)\u001b[0m\n\u001b[1;32m    859\u001b[0m     \u001b[39mreturn\u001b[39;00m \u001b[39mFalse\u001b[39;00m\n\u001b[1;32m    860\u001b[0m \u001b[39melse\u001b[39;00m:\n\u001b[0;32m--> 861\u001b[0m     \u001b[39mself\u001b[39;49m\u001b[39m.\u001b[39;49m_dispatch(tasks)\n\u001b[1;32m    862\u001b[0m     \u001b[39mreturn\u001b[39;00m \u001b[39mTrue\u001b[39;00m\n",
      "File \u001b[0;32m/Users/Hunter/opt/anaconda3/envs/416_book/lib/python3.9/site-packages/joblib/parallel.py:779\u001b[0m, in \u001b[0;36mParallel._dispatch\u001b[0;34m(self, batch)\u001b[0m\n\u001b[1;32m    777\u001b[0m \u001b[39mwith\u001b[39;00m \u001b[39mself\u001b[39m\u001b[39m.\u001b[39m_lock:\n\u001b[1;32m    778\u001b[0m     job_idx \u001b[39m=\u001b[39m \u001b[39mlen\u001b[39m(\u001b[39mself\u001b[39m\u001b[39m.\u001b[39m_jobs)\n\u001b[0;32m--> 779\u001b[0m     job \u001b[39m=\u001b[39m \u001b[39mself\u001b[39;49m\u001b[39m.\u001b[39;49m_backend\u001b[39m.\u001b[39;49mapply_async(batch, callback\u001b[39m=\u001b[39;49mcb)\n\u001b[1;32m    780\u001b[0m     \u001b[39m# A job can complete so quickly than its callback is\u001b[39;00m\n\u001b[1;32m    781\u001b[0m     \u001b[39m# called before we get here, causing self._jobs to\u001b[39;00m\n\u001b[1;32m    782\u001b[0m     \u001b[39m# grow. To ensure correct results ordering, .insert is\u001b[39;00m\n\u001b[1;32m    783\u001b[0m     \u001b[39m# used (rather than .append) in the following line\u001b[39;00m\n\u001b[1;32m    784\u001b[0m     \u001b[39mself\u001b[39m\u001b[39m.\u001b[39m_jobs\u001b[39m.\u001b[39minsert(job_idx, job)\n",
      "File \u001b[0;32m/Users/Hunter/opt/anaconda3/envs/416_book/lib/python3.9/site-packages/joblib/_parallel_backends.py:208\u001b[0m, in \u001b[0;36mSequentialBackend.apply_async\u001b[0;34m(self, func, callback)\u001b[0m\n\u001b[1;32m    206\u001b[0m \u001b[39mdef\u001b[39;00m \u001b[39mapply_async\u001b[39m(\u001b[39mself\u001b[39m, func, callback\u001b[39m=\u001b[39m\u001b[39mNone\u001b[39;00m):\n\u001b[1;32m    207\u001b[0m     \u001b[39m\"\"\"Schedule a func to be run\"\"\"\u001b[39;00m\n\u001b[0;32m--> 208\u001b[0m     result \u001b[39m=\u001b[39m ImmediateResult(func)\n\u001b[1;32m    209\u001b[0m     \u001b[39mif\u001b[39;00m callback:\n\u001b[1;32m    210\u001b[0m         callback(result)\n",
      "File \u001b[0;32m/Users/Hunter/opt/anaconda3/envs/416_book/lib/python3.9/site-packages/joblib/_parallel_backends.py:572\u001b[0m, in \u001b[0;36mImmediateResult.__init__\u001b[0;34m(self, batch)\u001b[0m\n\u001b[1;32m    569\u001b[0m \u001b[39mdef\u001b[39;00m \u001b[39m__init__\u001b[39m(\u001b[39mself\u001b[39m, batch):\n\u001b[1;32m    570\u001b[0m     \u001b[39m# Don't delay the application, to avoid keeping the input\u001b[39;00m\n\u001b[1;32m    571\u001b[0m     \u001b[39m# arguments in memory\u001b[39;00m\n\u001b[0;32m--> 572\u001b[0m     \u001b[39mself\u001b[39m\u001b[39m.\u001b[39mresults \u001b[39m=\u001b[39m batch()\n",
      "File \u001b[0;32m/Users/Hunter/opt/anaconda3/envs/416_book/lib/python3.9/site-packages/joblib/parallel.py:262\u001b[0m, in \u001b[0;36mBatchedCalls.__call__\u001b[0;34m(self)\u001b[0m\n\u001b[1;32m    258\u001b[0m \u001b[39mdef\u001b[39;00m \u001b[39m__call__\u001b[39m(\u001b[39mself\u001b[39m):\n\u001b[1;32m    259\u001b[0m     \u001b[39m# Set the default nested backend to self._backend but do not set the\u001b[39;00m\n\u001b[1;32m    260\u001b[0m     \u001b[39m# change the default number of processes to -1\u001b[39;00m\n\u001b[1;32m    261\u001b[0m     \u001b[39mwith\u001b[39;00m parallel_backend(\u001b[39mself\u001b[39m\u001b[39m.\u001b[39m_backend, n_jobs\u001b[39m=\u001b[39m\u001b[39mself\u001b[39m\u001b[39m.\u001b[39m_n_jobs):\n\u001b[0;32m--> 262\u001b[0m         \u001b[39mreturn\u001b[39;00m [func(\u001b[39m*\u001b[39margs, \u001b[39m*\u001b[39m\u001b[39m*\u001b[39mkwargs)\n\u001b[1;32m    263\u001b[0m                 \u001b[39mfor\u001b[39;00m func, args, kwargs \u001b[39min\u001b[39;00m \u001b[39mself\u001b[39m\u001b[39m.\u001b[39mitems]\n",
      "File \u001b[0;32m/Users/Hunter/opt/anaconda3/envs/416_book/lib/python3.9/site-packages/joblib/parallel.py:262\u001b[0m, in \u001b[0;36m<listcomp>\u001b[0;34m(.0)\u001b[0m\n\u001b[1;32m    258\u001b[0m \u001b[39mdef\u001b[39;00m \u001b[39m__call__\u001b[39m(\u001b[39mself\u001b[39m):\n\u001b[1;32m    259\u001b[0m     \u001b[39m# Set the default nested backend to self._backend but do not set the\u001b[39;00m\n\u001b[1;32m    260\u001b[0m     \u001b[39m# change the default number of processes to -1\u001b[39;00m\n\u001b[1;32m    261\u001b[0m     \u001b[39mwith\u001b[39;00m parallel_backend(\u001b[39mself\u001b[39m\u001b[39m.\u001b[39m_backend, n_jobs\u001b[39m=\u001b[39m\u001b[39mself\u001b[39m\u001b[39m.\u001b[39m_n_jobs):\n\u001b[0;32m--> 262\u001b[0m         \u001b[39mreturn\u001b[39;00m [func(\u001b[39m*\u001b[39;49margs, \u001b[39m*\u001b[39;49m\u001b[39m*\u001b[39;49mkwargs)\n\u001b[1;32m    263\u001b[0m                 \u001b[39mfor\u001b[39;00m func, args, kwargs \u001b[39min\u001b[39;00m \u001b[39mself\u001b[39m\u001b[39m.\u001b[39mitems]\n",
      "File \u001b[0;32m/Users/Hunter/opt/anaconda3/envs/416_book/lib/python3.9/site-packages/sklearn/utils/fixes.py:117\u001b[0m, in \u001b[0;36m_FuncWrapper.__call__\u001b[0;34m(self, *args, **kwargs)\u001b[0m\n\u001b[1;32m    115\u001b[0m \u001b[39mdef\u001b[39;00m \u001b[39m__call__\u001b[39m(\u001b[39mself\u001b[39m, \u001b[39m*\u001b[39margs, \u001b[39m*\u001b[39m\u001b[39m*\u001b[39mkwargs):\n\u001b[1;32m    116\u001b[0m     \u001b[39mwith\u001b[39;00m config_context(\u001b[39m*\u001b[39m\u001b[39m*\u001b[39m\u001b[39mself\u001b[39m\u001b[39m.\u001b[39mconfig):\n\u001b[0;32m--> 117\u001b[0m         \u001b[39mreturn\u001b[39;00m \u001b[39mself\u001b[39;49m\u001b[39m.\u001b[39;49mfunction(\u001b[39m*\u001b[39;49margs, \u001b[39m*\u001b[39;49m\u001b[39m*\u001b[39;49mkwargs)\n",
      "File \u001b[0;32m/Users/Hunter/opt/anaconda3/envs/416_book/lib/python3.9/site-packages/sklearn/ensemble/_forest.py:189\u001b[0m, in \u001b[0;36m_parallel_build_trees\u001b[0;34m(tree, bootstrap, X, y, sample_weight, tree_idx, n_trees, verbose, class_weight, n_samples_bootstrap)\u001b[0m\n\u001b[1;32m    186\u001b[0m     \u001b[39melif\u001b[39;00m class_weight \u001b[39m==\u001b[39m \u001b[39m\"\u001b[39m\u001b[39mbalanced_subsample\u001b[39m\u001b[39m\"\u001b[39m:\n\u001b[1;32m    187\u001b[0m         curr_sample_weight \u001b[39m*\u001b[39m\u001b[39m=\u001b[39m compute_sample_weight(\u001b[39m\"\u001b[39m\u001b[39mbalanced\u001b[39m\u001b[39m\"\u001b[39m, y, indices\u001b[39m=\u001b[39mindices)\n\u001b[0;32m--> 189\u001b[0m     tree\u001b[39m.\u001b[39;49mfit(X, y, sample_weight\u001b[39m=\u001b[39;49mcurr_sample_weight, check_input\u001b[39m=\u001b[39;49m\u001b[39mFalse\u001b[39;49;00m)\n\u001b[1;32m    190\u001b[0m \u001b[39melse\u001b[39;00m:\n\u001b[1;32m    191\u001b[0m     tree\u001b[39m.\u001b[39mfit(X, y, sample_weight\u001b[39m=\u001b[39msample_weight, check_input\u001b[39m=\u001b[39m\u001b[39mFalse\u001b[39;00m)\n",
      "File \u001b[0;32m/Users/Hunter/opt/anaconda3/envs/416_book/lib/python3.9/site-packages/sklearn/tree/_classes.py:969\u001b[0m, in \u001b[0;36mDecisionTreeClassifier.fit\u001b[0;34m(self, X, y, sample_weight, check_input)\u001b[0m\n\u001b[1;32m    939\u001b[0m \u001b[39mdef\u001b[39;00m \u001b[39mfit\u001b[39m(\u001b[39mself\u001b[39m, X, y, sample_weight\u001b[39m=\u001b[39m\u001b[39mNone\u001b[39;00m, check_input\u001b[39m=\u001b[39m\u001b[39mTrue\u001b[39;00m):\n\u001b[1;32m    940\u001b[0m     \u001b[39m\"\"\"Build a decision tree classifier from the training set (X, y).\u001b[39;00m\n\u001b[1;32m    941\u001b[0m \n\u001b[1;32m    942\u001b[0m \u001b[39m    Parameters\u001b[39;00m\n\u001b[0;32m   (...)\u001b[0m\n\u001b[1;32m    966\u001b[0m \u001b[39m        Fitted estimator.\u001b[39;00m\n\u001b[1;32m    967\u001b[0m \u001b[39m    \"\"\"\u001b[39;00m\n\u001b[0;32m--> 969\u001b[0m     \u001b[39msuper\u001b[39;49m()\u001b[39m.\u001b[39;49mfit(\n\u001b[1;32m    970\u001b[0m         X,\n\u001b[1;32m    971\u001b[0m         y,\n\u001b[1;32m    972\u001b[0m         sample_weight\u001b[39m=\u001b[39;49msample_weight,\n\u001b[1;32m    973\u001b[0m         check_input\u001b[39m=\u001b[39;49mcheck_input,\n\u001b[1;32m    974\u001b[0m     )\n\u001b[1;32m    975\u001b[0m     \u001b[39mreturn\u001b[39;00m \u001b[39mself\u001b[39m\n",
      "File \u001b[0;32m/Users/Hunter/opt/anaconda3/envs/416_book/lib/python3.9/site-packages/sklearn/tree/_classes.py:458\u001b[0m, in \u001b[0;36mBaseDecisionTree.fit\u001b[0;34m(self, X, y, sample_weight, check_input)\u001b[0m\n\u001b[1;32m    447\u001b[0m \u001b[39melse\u001b[39;00m:\n\u001b[1;32m    448\u001b[0m     builder \u001b[39m=\u001b[39m BestFirstTreeBuilder(\n\u001b[1;32m    449\u001b[0m         splitter,\n\u001b[1;32m    450\u001b[0m         min_samples_split,\n\u001b[0;32m   (...)\u001b[0m\n\u001b[1;32m    455\u001b[0m         \u001b[39mself\u001b[39m\u001b[39m.\u001b[39mmin_impurity_decrease,\n\u001b[1;32m    456\u001b[0m     )\n\u001b[0;32m--> 458\u001b[0m builder\u001b[39m.\u001b[39;49mbuild(\u001b[39mself\u001b[39;49m\u001b[39m.\u001b[39;49mtree_, X, y, sample_weight)\n\u001b[1;32m    460\u001b[0m \u001b[39mif\u001b[39;00m \u001b[39mself\u001b[39m\u001b[39m.\u001b[39mn_outputs_ \u001b[39m==\u001b[39m \u001b[39m1\u001b[39m \u001b[39mand\u001b[39;00m is_classifier(\u001b[39mself\u001b[39m):\n\u001b[1;32m    461\u001b[0m     \u001b[39mself\u001b[39m\u001b[39m.\u001b[39mn_classes_ \u001b[39m=\u001b[39m \u001b[39mself\u001b[39m\u001b[39m.\u001b[39mn_classes_[\u001b[39m0\u001b[39m]\n",
      "\u001b[0;31mKeyboardInterrupt\u001b[0m: "
     ]
    }
   ],
   "source": [
    "import pandas as pd\n",
    "\n",
    "from sklearn.metrics import accuracy_score\n",
    "from sklearn.model_selection import train_test_split\n",
    "from sklearn.preprocessing import OneHotEncoder\n",
    "from sklearn.ensemble import RandomForestClassifier\n",
    "\n",
    "# Load in data, and separate features and label\n",
    "data = pd.read_csv(\"../book_source/source/classification/ensembles/income.csv\")\n",
    "label = \"income\"\n",
    "features = data.columns[data.columns != label]\n",
    "\n",
    "# Train test split\n",
    "train_data, test_data, train_labels, test_labels = train_test_split(\n",
    "    data[features], data[label], test_size=0.2)\n",
    "\n",
    "# Transform categorical features. Note that we use the same transformation\n",
    "# on both train and test\n",
    "encoder = OneHotEncoder(handle_unknown='ignore')\\\n",
    "    .fit(train_data)\n",
    "train_data = encoder.transform(train_data)\n",
    "test_data = encoder.transform(test_data)\n",
    "\n",
    "# Train model\n",
    "model = RandomForestClassifier(n_estimators=200)\n",
    "model.fit(train_data, train_labels)\n",
    "\n",
    "# Make predictions\n",
    "train_predictions = model.predict(train_data)\n",
    "test_predictions = model.predict(test_data)\n",
    "\n",
    "print(\"Train Accuracy:\", accuracy_score(train_labels, train_predictions))\n",
    "print(\"Test  Accuracy:\", accuracy_score(test_labels, test_predictions))"
   ]
  },
  {
   "cell_type": "code",
   "execution_count": 12,
   "metadata": {},
   "outputs": [
    {
     "data": {
      "text/plain": [
       "18907"
      ]
     },
     "execution_count": 12,
     "metadata": {},
     "output_type": "execute_result"
    }
   ],
   "source": [
    "len(encoder.get_feature_names_out())"
   ]
  },
  {
   "cell_type": "code",
   "execution_count": 16,
   "metadata": {},
   "outputs": [
    {
     "name": "stdout",
     "output_type": "stream",
     "text": [
      "1\n",
      "11\n",
      "21\n",
      "31\n",
      "41\n",
      "51\n",
      "61\n",
      "71\n",
      "81\n",
      "91\n",
      "101\n"
     ]
    },
    {
     "data": {
      "text/plain": [
       "<matplotlib.legend.Legend at 0x7fa0f8cb98e0>"
      ]
     },
     "execution_count": 16,
     "metadata": {},
     "output_type": "execute_result"
    },
    {
     "data": {
      "image/png": "[encoded data removed]",
      "text/plain": [
       "<Figure size 432x288 with 1 Axes>"
      ]
     },
     "metadata": {
      "needs_background": "light"
     },
     "output_type": "display_data"
    }
   ],
   "source": [
    "import matplotlib.pyplot as plt\n",
    "\n",
    "MAX_TREES = 100\n",
    "STEP_SIZE = 10\n",
    "\n",
    "num_trees = list(range(1, MAX_TREES + STEP_SIZE, STEP_SIZE))\n",
    "train_accs = []\n",
    "test_accs = []\n",
    "\n",
    "model = RandomForestClassifier(warm_start=True, max_features=10)  # Use last iteration to start next\n",
    "\n",
    "for i in num_trees:\n",
    "    print(i)\n",
    "    model.set_params(n_estimators=i)\n",
    "\n",
    "    model.fit(train_data, train_labels)\n",
    "\n",
    "    train_predictions = model.predict(train_data)\n",
    "    test_predictions = model.predict(test_data)\n",
    "\n",
    "    train_accs.append(accuracy_score(train_labels, train_predictions))\n",
    "    test_accs.append(accuracy_score(test_labels, test_predictions))\n",
    "\n",
    "# Plot\n",
    "fig, ax = plt.subplots(1)\n",
    "ax.plot(num_trees, train_accs, label=\"Train\")\n",
    "ax.plot(num_trees, test_accs, label=\"Test\")\n",
    "\n",
    "ax.set_xlabel(\"Num Trees\")\n",
    "ax.set_ylabel(\"Accuracy (clipped)\")\n",
    "ax.legend()"
   ]
  },
  {
   "cell_type": "code",
   "execution_count": 17,
   "metadata": {},
   "outputs": [
    {
     "data": {
      "text/plain": [
       "[0.7802855826807923,\n",
       " 0.8420082911100876,\n",
       " 0.8460003070781514,\n",
       " 0.8476892369107938,\n",
       " 0.8498387839705205,\n",
       " 0.8532166436358053,\n",
       " 0.8522954091816367,\n",
       " 0.8524489482573315,\n",
       " 0.8530631045601106,\n",
       " 0.8524489482573315,\n",
       " 0.8532166436358053]"
      ]
     },
     "execution_count": 17,
     "metadata": {},
     "output_type": "execute_result"
    }
   ],
   "source": [
    "test_accs"
   ]
  },
  {
   "cell_type": "code",
   "execution_count": 8,
   "metadata": {},
   "outputs": [
    {
     "name": "stderr",
     "output_type": "stream",
     "text": [
      "/var/folders/tw/vy29vh0s7k58spccwy063k100000gn/T/ipykernel_8165/1715958787.py:27: RuntimeWarning: divide by zero encountered in double_scalars\n",
      "  alpha = np.log((1 - error) / error)\n",
      "/var/folders/tw/vy29vh0s7k58spccwy063k100000gn/T/ipykernel_8165/1715958787.py:28: RuntimeWarning: invalid value encountered in double_scalars\n",
      "  weights = [weights[i] * np.exp(alpha * errors[i]) for i in range(len(data))]\n"
     ]
    },
    {
     "ename": "ValueError",
     "evalue": "Input sample_weight contains NaN.",
     "output_type": "error",
     "traceback": [
      "\u001b[0;31m---------------------------------------------------------------------------\u001b[0m",
      "\u001b[0;31mValueError\u001b[0m                                Traceback (most recent call last)",
      "\u001b[1;32m/Users/hunter/Documents/Teaching/416/416-book/experimental_demos/Ensembles.ipynb Cell 5\u001b[0m in \u001b[0;36m<cell line: 36>\u001b[0;34m()\u001b[0m\n\u001b[1;32m     <a href='vscode-notebook-cell:/Users/hunter/Documents/Teaching/416/416-book/experimental_demos/Ensembles.ipynb#W4sZmlsZQ%3D%3D?line=33'>34</a>\u001b[0m \u001b[39m# Train another weak classifier\u001b[39;00m\n\u001b[1;32m     <a href='vscode-notebook-cell:/Users/hunter/Documents/Teaching/416/416-book/experimental_demos/Ensembles.ipynb#W4sZmlsZQ%3D%3D?line=34'>35</a>\u001b[0m clf \u001b[39m=\u001b[39m DecisionTreeClassifier(max_depth\u001b[39m=\u001b[39m\u001b[39m1\u001b[39m)\n\u001b[0;32m---> <a href='vscode-notebook-cell:/Users/hunter/Documents/Teaching/416/416-book/experimental_demos/Ensembles.ipynb#W4sZmlsZQ%3D%3D?line=35'>36</a>\u001b[0m clf\u001b[39m.\u001b[39;49mfit(xs, ys, sample_weight\u001b[39m=\u001b[39;49mweights)\n\u001b[1;32m     <a href='vscode-notebook-cell:/Users/hunter/Documents/Teaching/416/416-book/experimental_demos/Ensembles.ipynb#W4sZmlsZQ%3D%3D?line=36'>37</a>\u001b[0m predictions \u001b[39m=\u001b[39m clf\u001b[39m.\u001b[39mpredict(xs)\n\u001b[1;32m     <a href='vscode-notebook-cell:/Users/hunter/Documents/Teaching/416/416-book/experimental_demos/Ensembles.ipynb#W4sZmlsZQ%3D%3D?line=38'>39</a>\u001b[0m \u001b[39m# Calculate the error and update the weights\u001b[39;00m\n",
      "File \u001b[0;32m/Users/Hunter/opt/anaconda3/envs/416_book/lib/python3.9/site-packages/sklearn/tree/_classes.py:969\u001b[0m, in \u001b[0;36mDecisionTreeClassifier.fit\u001b[0;34m(self, X, y, sample_weight, check_input)\u001b[0m\n\u001b[1;32m    939\u001b[0m \u001b[39mdef\u001b[39;00m \u001b[39mfit\u001b[39m(\u001b[39mself\u001b[39m, X, y, sample_weight\u001b[39m=\u001b[39m\u001b[39mNone\u001b[39;00m, check_input\u001b[39m=\u001b[39m\u001b[39mTrue\u001b[39;00m):\n\u001b[1;32m    940\u001b[0m     \u001b[39m\"\"\"Build a decision tree classifier from the training set (X, y).\u001b[39;00m\n\u001b[1;32m    941\u001b[0m \n\u001b[1;32m    942\u001b[0m \u001b[39m    Parameters\u001b[39;00m\n\u001b[0;32m   (...)\u001b[0m\n\u001b[1;32m    966\u001b[0m \u001b[39m        Fitted estimator.\u001b[39;00m\n\u001b[1;32m    967\u001b[0m \u001b[39m    \"\"\"\u001b[39;00m\n\u001b[0;32m--> 969\u001b[0m     \u001b[39msuper\u001b[39;49m()\u001b[39m.\u001b[39;49mfit(\n\u001b[1;32m    970\u001b[0m         X,\n\u001b[1;32m    971\u001b[0m         y,\n\u001b[1;32m    972\u001b[0m         sample_weight\u001b[39m=\u001b[39;49msample_weight,\n\u001b[1;32m    973\u001b[0m         check_input\u001b[39m=\u001b[39;49mcheck_input,\n\u001b[1;32m    974\u001b[0m     )\n\u001b[1;32m    975\u001b[0m     \u001b[39mreturn\u001b[39;00m \u001b[39mself\u001b[39m\n",
      "File \u001b[0;32m/Users/Hunter/opt/anaconda3/envs/416_book/lib/python3.9/site-packages/sklearn/tree/_classes.py:372\u001b[0m, in \u001b[0;36mBaseDecisionTree.fit\u001b[0;34m(self, X, y, sample_weight, check_input)\u001b[0m\n\u001b[1;32m    366\u001b[0m     \u001b[39mraise\u001b[39;00m \u001b[39mValueError\u001b[39;00m(\n\u001b[1;32m    367\u001b[0m         \u001b[39m\"\u001b[39m\u001b[39mNumber of labels=\u001b[39m\u001b[39m%d\u001b[39;00m\u001b[39m does not match number of samples=\u001b[39m\u001b[39m%d\u001b[39;00m\u001b[39m\"\u001b[39m\n\u001b[1;32m    368\u001b[0m         \u001b[39m%\u001b[39m (\u001b[39mlen\u001b[39m(y), n_samples)\n\u001b[1;32m    369\u001b[0m     )\n\u001b[1;32m    371\u001b[0m \u001b[39mif\u001b[39;00m sample_weight \u001b[39mis\u001b[39;00m \u001b[39mnot\u001b[39;00m \u001b[39mNone\u001b[39;00m:\n\u001b[0;32m--> 372\u001b[0m     sample_weight \u001b[39m=\u001b[39m _check_sample_weight(sample_weight, X, DOUBLE)\n\u001b[1;32m    374\u001b[0m \u001b[39mif\u001b[39;00m expanded_class_weight \u001b[39mis\u001b[39;00m \u001b[39mnot\u001b[39;00m \u001b[39mNone\u001b[39;00m:\n\u001b[1;32m    375\u001b[0m     \u001b[39mif\u001b[39;00m sample_weight \u001b[39mis\u001b[39;00m \u001b[39mnot\u001b[39;00m \u001b[39mNone\u001b[39;00m:\n",
      "File \u001b[0;32m/Users/Hunter/opt/anaconda3/envs/416_book/lib/python3.9/site-packages/sklearn/utils/validation.py:1720\u001b[0m, in \u001b[0;36m_check_sample_weight\u001b[0;34m(sample_weight, X, dtype, copy, only_non_negative)\u001b[0m\n\u001b[1;32m   1718\u001b[0m \u001b[39mif\u001b[39;00m dtype \u001b[39mis\u001b[39;00m \u001b[39mNone\u001b[39;00m:\n\u001b[1;32m   1719\u001b[0m     dtype \u001b[39m=\u001b[39m [np\u001b[39m.\u001b[39mfloat64, np\u001b[39m.\u001b[39mfloat32]\n\u001b[0;32m-> 1720\u001b[0m sample_weight \u001b[39m=\u001b[39m check_array(\n\u001b[1;32m   1721\u001b[0m     sample_weight,\n\u001b[1;32m   1722\u001b[0m     accept_sparse\u001b[39m=\u001b[39;49m\u001b[39mFalse\u001b[39;49;00m,\n\u001b[1;32m   1723\u001b[0m     ensure_2d\u001b[39m=\u001b[39;49m\u001b[39mFalse\u001b[39;49;00m,\n\u001b[1;32m   1724\u001b[0m     dtype\u001b[39m=\u001b[39;49mdtype,\n\u001b[1;32m   1725\u001b[0m     order\u001b[39m=\u001b[39;49m\u001b[39m\"\u001b[39;49m\u001b[39mC\u001b[39;49m\u001b[39m\"\u001b[39;49m,\n\u001b[1;32m   1726\u001b[0m     copy\u001b[39m=\u001b[39;49mcopy,\n\u001b[1;32m   1727\u001b[0m     input_name\u001b[39m=\u001b[39;49m\u001b[39m\"\u001b[39;49m\u001b[39msample_weight\u001b[39;49m\u001b[39m\"\u001b[39;49m,\n\u001b[1;32m   1728\u001b[0m )\n\u001b[1;32m   1729\u001b[0m \u001b[39mif\u001b[39;00m sample_weight\u001b[39m.\u001b[39mndim \u001b[39m!=\u001b[39m \u001b[39m1\u001b[39m:\n\u001b[1;32m   1730\u001b[0m     \u001b[39mraise\u001b[39;00m \u001b[39mValueError\u001b[39;00m(\u001b[39m\"\u001b[39m\u001b[39mSample weights must be 1D array or scalar\u001b[39m\u001b[39m\"\u001b[39m)\n",
      "File \u001b[0;32m/Users/Hunter/opt/anaconda3/envs/416_book/lib/python3.9/site-packages/sklearn/utils/validation.py:899\u001b[0m, in \u001b[0;36mcheck_array\u001b[0;34m(array, accept_sparse, accept_large_sparse, dtype, order, copy, force_all_finite, ensure_2d, allow_nd, ensure_min_samples, ensure_min_features, estimator, input_name)\u001b[0m\n\u001b[1;32m    893\u001b[0m         \u001b[39mraise\u001b[39;00m \u001b[39mValueError\u001b[39;00m(\n\u001b[1;32m    894\u001b[0m             \u001b[39m\"\u001b[39m\u001b[39mFound array with dim \u001b[39m\u001b[39m%d\u001b[39;00m\u001b[39m. \u001b[39m\u001b[39m%s\u001b[39;00m\u001b[39m expected <= 2.\u001b[39m\u001b[39m\"\u001b[39m\n\u001b[1;32m    895\u001b[0m             \u001b[39m%\u001b[39m (array\u001b[39m.\u001b[39mndim, estimator_name)\n\u001b[1;32m    896\u001b[0m         )\n\u001b[1;32m    898\u001b[0m     \u001b[39mif\u001b[39;00m force_all_finite:\n\u001b[0;32m--> 899\u001b[0m         _assert_all_finite(\n\u001b[1;32m    900\u001b[0m             array,\n\u001b[1;32m    901\u001b[0m             input_name\u001b[39m=\u001b[39;49minput_name,\n\u001b[1;32m    902\u001b[0m             estimator_name\u001b[39m=\u001b[39;49mestimator_name,\n\u001b[1;32m    903\u001b[0m             allow_nan\u001b[39m=\u001b[39;49mforce_all_finite \u001b[39m==\u001b[39;49m \u001b[39m\"\u001b[39;49m\u001b[39mallow-nan\u001b[39;49m\u001b[39m\"\u001b[39;49m,\n\u001b[1;32m    904\u001b[0m         )\n\u001b[1;32m    906\u001b[0m \u001b[39mif\u001b[39;00m ensure_min_samples \u001b[39m>\u001b[39m \u001b[39m0\u001b[39m:\n\u001b[1;32m    907\u001b[0m     n_samples \u001b[39m=\u001b[39m _num_samples(array)\n",
      "File \u001b[0;32m/Users/Hunter/opt/anaconda3/envs/416_book/lib/python3.9/site-packages/sklearn/utils/validation.py:146\u001b[0m, in \u001b[0;36m_assert_all_finite\u001b[0;34m(X, allow_nan, msg_dtype, estimator_name, input_name)\u001b[0m\n\u001b[1;32m    124\u001b[0m         \u001b[39mif\u001b[39;00m (\n\u001b[1;32m    125\u001b[0m             \u001b[39mnot\u001b[39;00m allow_nan\n\u001b[1;32m    126\u001b[0m             \u001b[39mand\u001b[39;00m estimator_name\n\u001b[0;32m   (...)\u001b[0m\n\u001b[1;32m    130\u001b[0m             \u001b[39m# Improve the error message on how to handle missing values in\u001b[39;00m\n\u001b[1;32m    131\u001b[0m             \u001b[39m# scikit-learn.\u001b[39;00m\n\u001b[1;32m    132\u001b[0m             msg_err \u001b[39m+\u001b[39m\u001b[39m=\u001b[39m (\n\u001b[1;32m    133\u001b[0m                 \u001b[39mf\u001b[39m\u001b[39m\"\u001b[39m\u001b[39m\\n\u001b[39;00m\u001b[39m{\u001b[39;00mestimator_name\u001b[39m}\u001b[39;00m\u001b[39m does not accept missing values\u001b[39m\u001b[39m\"\u001b[39m\n\u001b[1;32m    134\u001b[0m                 \u001b[39m\"\u001b[39m\u001b[39m encoded as NaN natively. For supervised learning, you might want\u001b[39m\u001b[39m\"\u001b[39m\n\u001b[0;32m   (...)\u001b[0m\n\u001b[1;32m    144\u001b[0m                 \u001b[39m\"\u001b[39m\u001b[39m#estimators-that-handle-nan-values\u001b[39m\u001b[39m\"\u001b[39m\n\u001b[1;32m    145\u001b[0m             )\n\u001b[0;32m--> 146\u001b[0m         \u001b[39mraise\u001b[39;00m \u001b[39mValueError\u001b[39;00m(msg_err)\n\u001b[1;32m    148\u001b[0m \u001b[39m# for object dtype data, we only check for NaNs (GH-13254)\u001b[39;00m\n\u001b[1;32m    149\u001b[0m \u001b[39melif\u001b[39;00m X\u001b[39m.\u001b[39mdtype \u001b[39m==\u001b[39m np\u001b[39m.\u001b[39mdtype(\u001b[39m\"\u001b[39m\u001b[39mobject\u001b[39m\u001b[39m\"\u001b[39m) \u001b[39mand\u001b[39;00m \u001b[39mnot\u001b[39;00m allow_nan:\n",
      "\u001b[0;31mValueError\u001b[0m: Input sample_weight contains NaN."
     ]
    },
    {
     "data": {
      "image/png": "[encoded data removed]",
      "text/plain": [
       "<Figure size 432x288 with 1 Axes>"
      ]
     },
     "metadata": {
      "needs_background": "light"
     },
     "output_type": "display_data"
    }
   ],
   "source": [
    "import matplotlib.pyplot as plt\n",
    "from sklearn.tree import DecisionTreeClassifier\n",
    "import numpy as np\n",
    "\n",
    "# Initialize the sample weights\n",
    "weights = [1/6 for _ in range(6)]\n",
    "\n",
    "# Sample data\n",
    "data = [(1, -1), (2, -1), (3, -1), (4, 1), (5, 1), (6, 1)]\n",
    "xs = np.array([d[0] for d in data]).reshape(-1, 1)\n",
    "ys = np.array([d[1] for d in data]).reshape(-1, 1)\n",
    "\n",
    "# Plot the sample data\n",
    "plt.scatter([x[0] for x in data], [x[1] for x in data], c=[x[1] for x in data], cmap='coolwarm', s=200)\n",
    "\n",
    "# Plot the initial weights\n",
    "plt.bar([1, 2, 3, 4, 5, 6], weights, alpha=0.5)\n",
    "\n",
    "# Train the weak classifier\n",
    "clf = DecisionTreeClassifier(max_depth=1)\n",
    "clf.fit(xs, ys, sample_weight=weights)\n",
    "predictions = clf.predict(xs)\n",
    "\n",
    "# Calculate the error and update the weights\n",
    "errors = [int(predictions[i] != data[i][1]) for i in range(len(data))]\n",
    "error = np.dot(weights, errors) / np.sum(weights)\n",
    "alpha = np.log((1 - error) / error)\n",
    "weights = [weights[i] * np.exp(alpha * errors[i]) for i in range(len(data))]\n",
    "weights /= np.sum(weights)\n",
    "\n",
    "# Plot the updated weights\n",
    "plt.bar([1, 2, 3, 4, 5, 6], weights, alpha=0.5)\n",
    "\n",
    "# Train another weak classifier\n",
    "clf = DecisionTreeClassifier(max_depth=1)\n",
    "clf.fit(xs, ys, sample_weight=weights)\n",
    "predictions = clf.predict(xs)\n",
    "\n",
    "# Calculate the error and update the weights\n",
    "errors = [int(predictions[i] != data[i][1]) for i in range(len(data))]\n",
    "error = np.dot(weights, errors) / np.sum(weights)\n",
    "alpha = np.log((1 - error) / error)\n",
    "weights = [weights[i] * np.exp(alpha * errors[i]) for i in range(len(data))]\n",
    "weights /= np.sum(weights)\n",
    "\n",
    "# Plot the final weights\n",
    "plt.bar([1, 2, 3, 4, 5, 6], weights, alpha=0.5)\n",
    "\n",
    "# Plot the decision boundary of the final classifier\n",
    "plt.plot([0, 7], [0.5, 0.5], '--', color='black')\n",
    "\n",
    "plt.show()\n"
   ]
  },
  {
   "cell_type": "code",
   "execution_count": 4,
   "metadata": {},
   "outputs": [],
   "source": [
    "import seaborn as sns\n",
    "import matplotlib.pyplot as plt\n",
    "\n",
    "from matplotlib.gridspec import GridSpec\n",
    "from sklearn.inspection import DecisionBoundaryDisplay\n",
    "from sklearn.tree import plot_tree\n",
    "\n",
    "X_LIM = (0, 10)\n",
    "Y_LIM = (0, 9)\n",
    "\n",
    "def animl_plot_tree(data, tree, tree_title, figsize, **kwargs):\n",
    "    fig = plt.figure(figsize=figsize)\n",
    "\n",
    "    gs =  GridSpec(2, 2, **kwargs)\n",
    "\n",
    "    ax1 = fig.add_subplot(gs[0, :])\n",
    "    ax2 = fig.add_subplot(gs[1, 0])\n",
    "    ax3 = fig.add_subplot(gs[1, 1])\n",
    "\n",
    "    # First plot the tree\n",
    "\n",
    "    # Then plot the data and boundary\n",
    "    def data_scatter(ax):\n",
    "        pos_data = data[data[\"label\"] == \"positive\"]\n",
    "        neg_data = data[data[\"label\"] == \"negative\"]\n",
    "        ax.scatter(x=pos_data[\"feature1\"], y=pos_data[\"feature2\"],\n",
    "                   c=\"blue\", marker=\"+\", s=100)\n",
    "        ax.scatter(x=neg_data[\"feature1\"], y=neg_data[\"feature2\"],\n",
    "                   c=\"orange\", marker=\"x\", s=100)\n",
    "        ax.set_xlabel(\"feature1\")\n",
    "        ax.set_ylabel(\"feature2\")\n",
    "        ax.set_xlim(X_LIM)\n",
    "        ax.set_ylim(Y_LIM)\n",
    "\n",
    "    # Plot data\n",
    "    data_scatter(ax2)\n",
    "    ax2.set_title(\"Synthetic Data\")\n",
    "\n",
    "    # Plot boundary\n",
    "    \n",
    "\n",
    "    preds = tree.predict(data[[\"feature1\", \"feature2\"]])\n",
    "    accuracy = accuracy_score(data[\"label\"], preds)\n",
    "\n",
    "    ax3.set_title(f\"Decision Boundary (Acc: {accuracy:.2f})\")"
   ]
  },
  {
   "cell_type": "code",
   "execution_count": 7,
   "metadata": {},
   "outputs": [],
   "source": [
    "def adaboost_decision(data, dataset_weights, model=None, ax=None):\n",
    "    if ax is None:\n",
    "        fig, ax = plt.subplots(1)\n",
    "\n",
    "    pos_data = data[data[\"label\"] == \"positive\"]\n",
    "    pos_weights = dataset_weights[data[\"label\"] == \"positive\"]\n",
    "    neg_data = data[data[\"label\"] == \"negative\"]\n",
    "    neg_weights = dataset_weights[data[\"label\"] == \"negative\"]\n",
    "\n",
    "    # Hard coding some numbers to scale weights to meaningful sizes\n",
    "    effective_weight_max = 0.1\n",
    "    start_s = 50\n",
    "    effective_max_s = 200\n",
    "    pos_s = start_s + effective_max_s * pos_weights / effective_weight_max\n",
    "    neg_s = start_s + effective_max_s * neg_weights / effective_weight_max\n",
    "\n",
    "\n",
    "    ax.scatter(x=pos_data[\"feature1\"], y=pos_data[\"feature2\"],\n",
    "                c=\"blue\", marker=\"+\", s=pos_s)\n",
    "    ax.scatter(x=neg_data[\"feature1\"], y=neg_data[\"feature2\"],\n",
    "                c=\"orange\", marker=\"x\", s=neg_s) #weight_scale * neg_weights)\n",
    "\n",
    "    if model:\n",
    "        DecisionBoundaryDisplay.from_estimator(\n",
    "            model, data[[\"feature1\", \"feature2\"]], response_method=\"predict\",\n",
    "            xlabel=\"feature1\", ylabel=\"feature2\",\n",
    "            alpha=0.1, colors=[\"orange\", \"black\", \"blue\", \"black\"],\n",
    "            ax=ax)\n",
    "    ax.set_xlabel(\"feature1\")\n",
    "    ax.set_ylabel(\"feature2\")\n",
    "    ax.set_xlim(X_LIM)\n",
    "    ax.set_ylim(Y_LIM)"
   ]
  },
  {
   "cell_type": "code",
   "execution_count": 29,
   "metadata": {},
   "outputs": [
    {
     "data": {
      "image/png": "[encoded data removed]",
      "text/plain": [
       "<Figure size 432x288 with 1 Axes>"
      ]
     },
     "metadata": {
      "needs_background": "light"
     },
     "output_type": "display_data"
    }
   ],
   "source": [
    "from sklearn.tree import DecisionTreeClassifier\n",
    "\n",
    "import matplotlib.pyplot as plt\n",
    "import numpy as np\n",
    "\n",
    "class AnimlAdaBoost:\n",
    "    def __init__(self, models=None, model_weights=None):\n",
    "        self.models = models if models else []\n",
    "        self.model_weights = model_weights if model_weights else []\n",
    "        self.is_fitted_ = True\n",
    "        self.classes_ = [\"negative\", \"positive\"]\n",
    "        self.limit = None\n",
    "\n",
    "    def add_tree(self, tree, model_weight):\n",
    "        if self.limit is not None:\n",
    "            raise ValueError(\"Unable to add trees if limit is set. Set to None first\")\n",
    "        self.models.append(tree)\n",
    "        self.model_weights.append(model_weight)\n",
    "\n",
    "    def fit(self, X, y):\n",
    "        raise NotImplemented()\n",
    "\n",
    "    def limit_to(self, i):\n",
    "        self.limit = i\n",
    "\n",
    "    def predict(self, data):\n",
    "        # Assumes binary positive/negative predictions\n",
    "        total_preds = np.zeros(len(data))\n",
    "\n",
    "        limit = len(self.models) if self.limit is None else self.limit\n",
    "\n",
    "        for i in range(limit):\n",
    "            model = self.models[i]\n",
    "            weight = self.model_weights[i]\n",
    "            preds = model.predict(data)\n",
    "            preds = np.array([+1 if pred == \"positive\" else -1 for pred in preds])\n",
    "            total_preds = total_preds + weight * preds\n",
    "\n",
    "        result = np.array([\"positive\" if total_pred > 0 else \"negative\" for total_pred in total_preds])\n",
    "        return result\n",
    "\n",
    "\n",
    "def train_stump(data, labels, dataset_weights):\n",
    "    # Train the weak classifier\n",
    "    stump = DecisionTreeClassifier(max_depth=1)\n",
    "    stump.fit(data, labels, sample_weight=dataset_weights)\n",
    "    predictions = stump.predict(data)\n",
    "\n",
    "    # Calculate the error and update the weights\n",
    "    errors = predictions != labels\n",
    "    weighted_error = np.dot(dataset_weights, errors) / np.sum(dataset_weights)\n",
    "\n",
    "    model_weight = np.log((1 - weighted_error) / weighted_error) / 2\n",
    "\n",
    "    multiplier = 2 * errors - 1  # 1 for correct, -1 for error\n",
    "    dataset_weights =  dataset_weights * np.exp(model_weight * multiplier)\n",
    "    dataset_weights = dataset_weights / np.sum(dataset_weights)\n",
    "\n",
    "    return stump, model_weight, dataset_weights\n",
    "\n",
    "# Sample data\n",
    "data = pd.read_csv(\"../book_source/source/classification/ensembles/synthetic.csv\")\n",
    "features = [\"feature1\", \"feature2\"]\n",
    "label = \"label\"\n",
    "\n",
    "# Initialize the sample weights\n",
    "dataset_weights = np.array([1/len(data) for _ in range(len(data))])\n",
    "\n",
    "# Plot the sample data\n",
    "fig, ax = plt.subplots(1)\n",
    "adaboost_decision(data, dataset_weights, ax=ax)\n",
    "\n",
    "MAX_TREES = 300\n",
    "ensemble = AnimlAdaBoost()\n",
    "for i in range(MAX_TREES):\n",
    "    tree, model_weight, dataset_weights = train_stump(data[features], data[label], dataset_weights)\n",
    "    ensemble.add_tree(tree, model_weight)\n",
    "\n",
    "    #fig, ax = plt.subplots(1, figsize=(15, 10))\n",
    "    #adaboost_decision(data, dataset_weights, model=tree, ax=ax)\n",
    "\n",
    "    #if i % 10 == 0:\n",
    "    #    fig, ax = plt.subplots(1, figsize=(15, 10))\n",
    "    #    adaboost_decision(data, dataset_weights, model=ensemble, ax=ax)"
   ]
  },
  {
   "cell_type": "code",
   "execution_count": 30,
   "metadata": {},
   "outputs": [
    {
     "data": {
      "image/png": "[encoded data removed]",
      "text/plain": [
       "<Figure size 1080x720 with 1 Axes>"
      ]
     },
     "metadata": {
      "needs_background": "light"
     },
     "output_type": "display_data"
    }
   ],
   "source": [
    "from matplotlib.animation import FuncAnimation\n",
    "\n",
    "\n",
    "checkpoints = list(range(11)) + list(range(20, MAX_TREES + 1, 10))\n",
    "\n",
    "fig, ax = plt.subplots(1, figsize=(15, 10))\n",
    "\n",
    "# function takes frame as an input\n",
    "def animation_func(frame):\n",
    "    ax.clear()\n",
    "    ensemble.limit_to(checkpoints[frame])\n",
    "    adaboost_decision(data, dataset_weights, model=ensemble, ax=ax)\n",
    "    ax.set_title(f\"AdaBoost Decision Boundary with Num Trees = {checkpoints[frame]}\")\n",
    "\n",
    "anim_created = FuncAnimation(fig, animation_func, frames=len(checkpoints), interval=750)\n",
    "\n"
   ]
  },
  {
   "cell_type": "code",
   "execution_count": 31,
   "metadata": {},
   "outputs": [],
   "source": [
    "anim_created.save(filename=\"adaboost_decision.mp4\", writer=\"ffmpeg\")"
   ]
  },
  {
   "cell_type": "code",
   "execution_count": 32,
   "metadata": {},
   "outputs": [
    {
     "name": "stdout",
     "output_type": "stream",
     "text": [
      "Train Accuracy: 0.8823710073710074\n",
      "Test  Accuracy: 0.8647320743129127\n"
     ]
    }
   ],
   "source": [
    "\n",
    "import pandas as pd\n",
    "\n",
    "from sklearn.metrics import accuracy_score\n",
    "from sklearn.model_selection import train_test_split\n",
    "from sklearn.preprocessing import OneHotEncoder\n",
    "from sklearn.ensemble import AdaBoostClassifier\n",
    "\n",
    "# Load in data, and separate features and label\n",
    "data = pd.read_csv(\"../book_source/source/classification/ensembles/income.csv\")\n",
    "label = \"income\"\n",
    "features = data.columns[data.columns != label]\n",
    "\n",
    "# Train test split\n",
    "train_data, test_data, train_labels, test_labels = train_test_split(\n",
    "    data[features], data[label], test_size=0.2)\n",
    "\n",
    "# Transform categorical features. Note that we use the same transformation\n",
    "# on both train and test\n",
    "encoder = OneHotEncoder(handle_unknown='ignore')\\\n",
    "    .fit(train_data)\n",
    "train_data = encoder.transform(train_data)\n",
    "test_data = encoder.transform(test_data)\n",
    "\n",
    "# Train model\n",
    "\n",
    "\n",
    "# Make predictions\n",
    "train_predictions = model.predict(train_data)\n",
    "test_predictions = model.predict(test_data)\n",
    "\n",
    "print(\"Train Accuracy:\", accuracy_score(train_labels, train_predictions))\n",
    "print(\"Test  Accuracy:\", accuracy_score(test_labels, test_predictions))"
   ]
  },
  {
   "cell_type": "code",
   "execution_count": 41,
   "metadata": {},
   "outputs": [
    {
     "data": {
      "text/plain": [
       "[<matplotlib.lines.Line2D at 0x7fdcf153e640>]"
      ]
     },
     "execution_count": 41,
     "metadata": {},
     "output_type": "execute_result"
    },
    {
     "data": {
      "image/png": "[encoded data removed]",
      "text/plain": [
       "<Figure size 432x288 with 1 Axes>"
      ]
     },
     "metadata": {
      "needs_background": "light"
     },
     "output_type": "display_data"
    }
   ],
   "source": [
    "def learning_curve(ensemble, data, labels):\n",
    "    staged_predictions = ensemble.staged_predict(data)\n",
    "\n",
    "    accuracies = []\n",
    "    for predictions in staged_predictions:\n",
    "        accuracy = (predictions == labels).sum() / len(predictions)\n",
    "        accuracies.append(accuracy)\n",
    "    return accuracies\n",
    "\n",
    "model = AdaBoostClassifier(n_estimators=4000)\n",
    "model.fit(train_data, train_labels)\n",
    "\n",
    "train_accs = learning_curve(model, train_data, train_labels)\n",
    "test_accs = learning_curve(model, test_data, test_labels)\n",
    "\n",
    "num_trees = list(range(1, len(train_accs) + 1))\n",
    "\n",
    "fig, ax = plt.subplots(1)\n",
    "ax.plot(num_trees, train_accs, label=\"Train\")\n",
    "ax.plot(num_trees, test_accs, label=\"Test\")\n"
   ]
  },
  {
   "cell_type": "code",
   "execution_count": 42,
   "metadata": {},
   "outputs": [
    {
     "data": {
      "text/plain": [
       "0.8662674650698603"
      ]
     },
     "execution_count": 42,
     "metadata": {},
     "output_type": "execute_result"
    }
   ],
   "source": [
    "max(test_accs)"
   ]
  },
  {
   "cell_type": "code",
   "execution_count": 43,
   "metadata": {},
   "outputs": [
    {
     "data": {
      "text/plain": [
       "0.8461538461538461"
      ]
     },
     "execution_count": 43,
     "metadata": {},
     "output_type": "execute_result"
    }
   ],
   "source": [
    "\n",
    "max(test_accs[-100:])"
   ]
  },
  {
   "cell_type": "code",
   "execution_count": null,
   "metadata": {},
   "outputs": [],
   "source": []
  }
 ],
 "metadata": {
  "kernelspec": {
   "display_name": "416_book",
   "language": "python",
   "name": "python3"
  },
  "language_info": {
   "codemirror_mode": {
    "name": "ipython",
    "version": 3
   },
   "file_extension": ".py",
   "mimetype": "text/x-python",
   "name": "python",
   "nbconvert_exporter": "python",
   "pygments_lexer": "ipython3",
   "version": "3.9.12"
  },
  "orig_nbformat": 4
 },
 "nbformat": 4,
 "nbformat_minor": 2
}
