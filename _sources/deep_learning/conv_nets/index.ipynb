{
 "cells": [
  {
   "cell_type": "markdown",
   "id": "efb12124",
   "metadata": {},
   "source": [
    "# <i class=\"fas fa-book fa-fw\"></i> Convolutional Neural Networks (coming soon)\n",
    "\n",
    "Coming soon"
   ]
  }
 ],
 "metadata": {
  "jupytext": {
   "formats": "md:myst",
   "text_representation": {
    "extension": ".md",
    "format_name": "myst"
   }
  },
  "kernelspec": {
   "display_name": "Python 3",
   "language": "python",
   "name": "python3"
  },
  "language_info": {
   "codemirror_mode": {
    "name": "ipython",
    "version": 3
   },
   "file_extension": ".py",
   "mimetype": "text/x-python",
   "name": "python",
   "nbconvert_exporter": "python",
   "pygments_lexer": "ipython3",
   "version": "3.9.16"
  },
  "myst": {
   "substitutions": {
    "ref_index": 1
   }
  },
  "source_map": [
   14
  ]
 },
 "nbformat": 4,
 "nbformat_minor": 5
}