{
 "cells": [
  {
   "cell_type": "markdown",
   "id": "e29b6ae9",
   "metadata": {},
   "source": [
    "# <i class=\"fas fa-book fa-fw\"></i> Locality Sensitive Hashing\n",
    "\n",
    "Coming soon"
   ]
  }
 ],
 "metadata": {
  "jupytext": {
   "formats": "md:myst",
   "text_representation": {
    "extension": ".md",
    "format_name": "myst"
   }
  },
  "kernelspec": {
   "display_name": "Python 3",
   "language": "python",
   "name": "python3"
  },
  "myst": {
   "substitutions": {
    "ref_index": 1
   }
  },
  "source_map": [
   14
  ]
 },
 "nbformat": 4,
 "nbformat_minor": 5
}