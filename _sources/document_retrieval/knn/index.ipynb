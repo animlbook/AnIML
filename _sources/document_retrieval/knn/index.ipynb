{
 "cells": [
  {
   "cell_type": "markdown",
   "id": "f035060d",
   "metadata": {},
   "source": [
    "# <i class=\"fas fa-book fa-fw\"></i> Introduction, Precision/Recall, k-Nearest Neighbors (coming soon)\n",
    "\n",
    "Coming soon"
   ]
  }
 ],
 "metadata": {
  "jupytext": {
   "formats": "md:myst",
   "text_representation": {
    "extension": ".md",
    "format_name": "myst"
   }
  },
  "kernelspec": {
   "display_name": "Python 3",
   "language": "python",
   "name": "python3"
  },
  "myst": {
   "substitutions": {
    "ref_index": 1
   }
  },
  "source_map": [
   14
  ]
 },
 "nbformat": 4,
 "nbformat_minor": 5
}